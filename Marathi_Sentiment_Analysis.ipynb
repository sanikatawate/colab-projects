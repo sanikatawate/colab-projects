{
  "cells": [
    {
      "cell_type": "code",
      "execution_count": null,
      "metadata": {
        "id": "UYu3Xff763aE"
      },
      "outputs": [],
      "source": [
        "%pip install mahaNLP==0.6 -q"
      ]
    },
    {
      "cell_type": "markdown",
      "metadata": {
        "id": "fqPJo2P3eQR3"
      },
      "source": [
        "# MARATHI SENTIMENT ANALYSIS"
      ]
    },
    {
      "cell_type": "code",
      "execution_count": null,
      "metadata": {
        "id": "f0bB2RBu63aF"
      },
      "outputs": [],
      "source": [
        "# Helper libraries\n",
        "import pandas as pd\n",
        "import numpy as np\n",
        "import re\n",
        "\n",
        "# Machine Learning libraries\n",
        "from sklearn.feature_extraction.text import TfidfVectorizer\n",
        "from sklearn.ensemble import RandomForestClassifier\n",
        "from sklearn.model_selection import train_test_split, cross_val_score\n",
        "from sklearn.metrics import accuracy_score, classification_report, confusion_matrix\n",
        "\n",
        "# NLP libraries\n",
        "import nltk\n",
        "from nltk.stem.snowball import SnowballStemmer\n",
        "\n",
        "# Visualization libraries\n",
        "import matplotlib.pyplot as plt\n",
        "import seaborn as sns"
      ]
    },
    {
      "cell_type": "code",
      "execution_count": null,
      "metadata": {
        "colab": {
          "base_uri": "https://localhost:8080/",
          "height": 397
        },
        "id": "KxEKyoCL63aF",
        "outputId": "c12f967b-0de8-4725-da51-9088b46493a2"
      },
      "outputs": [
        {
          "data": {
            "application/vnd.google.colaboratory.intrinsic+json": {
              "summary": "{\n  \"name\": \"df\",\n  \"rows\": 15164,\n  \"fields\": [\n    {\n      \"column\": \"Sentence\",\n      \"properties\": {\n        \"dtype\": \"string\",\n        \"num_unique_values\": 15072,\n        \"samples\": [\n          \"\\u0926\\u093e\\u092d\\u094b\\u0932\\u0915\\u0930 \\u092a\\u093e\\u0928\\u0938\\u0930\\u0947\\u0902\\u091a\\u0947 \\u092e\\u093e\\u0930\\u0947\\u0915\\u0930\\u0940\\u0939\\u0940 \\u092d\\u093e\\u091c\\u092a\\u091a\\u0947 \\u0909\\u092e\\u0947\\u0926\\u0935\\u093e\\u0930 \\u0926\\u093f\\u0938\\u0924\\u0940\\u0932\\u092e\\u093e\\u0932\\u0947\\u0917\\u093e\\u0935 \\u092c\\u0949\\u092e\\u094d\\u092c\\u0938\\u094d\\u092b\\u094b\\u091f\\u093e\\u0924\\u0940\\u0932 \\u0906\\u0930\\u094b\\u092a\\u0940 \\u092a\\u094d\\u0930\\u091c\\u094d\\u091e\\u093e \\u0920\\u093e\\u0915\\u0942\\u0930\\u091a\\u094d\\u092f\\u093e \\u0909\\u092e\\u0947\\u0926\\u0935\\u093e\\u0930\\u0940\\u091a\\u0947 \\u092d\\u093e\\u091c\\u092a\\u093e\\u0915\\u0921\\u0942\\u0928 \\u0939\\u094b\\u0923\\u093e\\u0930\\u0947 \\u0938\\u092e\\u0930\\u094d\\u0925\\u0928 \\u092a\\u093e\\u0939\\u0924\\u093e \\u0928\\u0925\\u0941\\u0930\\u093e\\u092e \\u0917\\u094b\\u0921\\u0938\\u0947 \\u091c\\u093f\\u0935\\u0902\\u0924 \\u0905\\u0938\\u0924\\u093e \\u0924\\u0930 \\u0924\\u094d\\u092f\\u093e\\u0932\\u093e\\u0939\\u0940 \\u092d\\u093e\\u0930\\u0924\\u0940\\u092f \\u091c\\u0928\\u0924\\u093e \\u092a\\u0915\\u094d\\u0937\\u093e\\u0928\\u0947 \\u0909\\u092e\\u0947\\u0926\\u0935\\u093e\\u0930\\u0940 \\u0926\\u093f\\u0932\\u0940\",\n          \"\\u0906\\u0926\\u0930\\u094d\\u0936 \\u0930\\u093e\\u091c\\u094d\\u092f\\u0915\\u0930\\u094d\\u0924\\u094d\\u092f\\u093e \\u0930\\u093e\\u091c\\u092e\\u093e\\u0924\\u093e \\u092a\\u0941\\u0923\\u094d\\u092f\\u0936\\u094d\\u0932\\u094b\\u0915 \\u0905\\u0939\\u093f\\u0932\\u094d\\u092f\\u093e\\u0926\\u0947\\u0935\\u0940 \\u0939\\u094b\\u0933\\u0915\\u0930 \\u092f\\u093e\\u0902\\u0928\\u093e \\u092a\\u0941\\u0923\\u094d\\u092f\\u0924\\u093f\\u0925\\u0940\\u0928\\u093f\\u092e\\u093f\\u0924\\u094d\\u0924 \\u092d\\u093e\\u0935\\u092a\\u0942\\u0930\\u094d\\u0923 \\u0906\\u0926\\u0930\\u093e\\u0902\\u091c\\u0932\\u0940 \\u0924\\u094d\\u092f\\u093e\\u0902\\u0928\\u0940 \\u0930\\u093e\\u091c\\u0915\\u093e\\u0930\\u0923\\u0938\\u092e\\u093e\\u091c\\u0915\\u093e\\u0930\\u0923\\u0927\\u0930\\u094d\\u092e\\u092a\\u0930\\u093e\\u092f\\u0923\\u0924\\u0947\\u091a\\u094d\\u092f\\u093e \\u0915\\u094d\\u0937\\u0947\\u0924\\u094d\\u0930\\u093e\\u0924 \\u0906\\u0926\\u0930\\u094d\\u0936 \\u0928\\u093f\\u0930\\u094d\\u092e\\u093e\\u0923 \\u0915\\u0947\\u0932\\u093e \\u091c\\u093e\\u0924\\u0927\\u0930\\u094d\\u092e\\u092a\\u0902\\u0925\\u092a\\u094d\\u0930\\u093e\\u0902\\u0924\\u093e\\u0902\\u091a\\u094d\\u092f\\u093e \\u0938\\u0940\\u092e\\u093e \\u0913\\u0932\\u093e\\u0902\\u0921\\u0942\\u0928 \\u0932\\u094b\\u0915\\u0915\\u0932\\u094d\\u092f\\u093e\\u0923\\u093e\\u091a\\u0940 \\u0915\\u093e\\u092e\\u0902 \\u0915\\u0947\\u0932\\u0940 \\u092a\\u0930\\u0930\\u093e\\u091c\\u094d\\u092f\\u093e\\u0902\\u0936\\u0940 \\u0938\\u0939\\u0915\\u093e\\u0930\\u094d\\u092f\\u093e\\u091a\\u0947 \\u0938\\u0932\\u094b\\u0916\\u094d\\u092f\\u093e\\u091a\\u0947 \\u0938\\u0902\\u092c\\u0902\\u0927 \\u0930\\u093e\\u0916\\u0932\\u0947\",\n          \"\\u0917 \\u0926\\u093f \\u092e\\u093e\\u0921\\u0917\\u0942\\u0933\\u0915\\u0930 \\u092f\\u093e\\u0902\\u091a\\u0947 \\u0938\\u0941\\u092a\\u0941\\u0924\\u094d\\u0930 \\u0906\\u0923\\u093f \\u091c\\u094d\\u092f\\u0947\\u0937\\u094d\\u0920 \\u092a\\u0924\\u094d\\u0930\\u0915\\u093e\\u0930 \\u0936\\u094d\\u0930\\u0940\\u0927\\u0930 \\u092e\\u093e\\u0921\\u0917\\u0942\\u0933\\u0915\\u0930 \\u092f\\u093e\\u0902\\u091a\\u094d\\u092f\\u093e \\u0928\\u093f\\u0927\\u0928\\u093e\\u091a\\u0947 \\u0935\\u0943\\u0924\\u094d\\u0924 \\u0938\\u0902\\u092a\\u0942\\u0930\\u094d\\u0923 \\u092e\\u0939\\u093e\\u0930\\u093e\\u0937\\u094d\\u091f\\u094d\\u0930\\u093e\\u0932\\u093e \\u091a\\u091f\\u0915\\u093e \\u0932\\u093e\\u0935\\u0923\\u093e\\u0930\\u0947 \\u0906\\u0939\\u0947 \\u092a\\u0924\\u094d\\u0930\\u0915\\u093e\\u0930 \\u0915\\u093e\\u0926\\u0902\\u092c\\u0930\\u0940\\u0915\\u093e\\u0930 \\u0932\\u0947\\u0916\\u0915 \\u0935\\u093f\\u091a\\u093e\\u0930\\u0935\\u0902\\u0924 \\u092f\\u093e\\u0936\\u093f\\u0935\\u093e\\u092f \\u0935\\u093f\\u0935\\u093f\\u0927 \\u0915\\u094d\\u0937\\u0947\\u0924\\u094d\\u0930\\u093e\\u0924\\u0940\\u0932 \\u0924\\u094d\\u092f\\u093e\\u0902\\u091a\\u0947 \\u0915\\u093e\\u0930\\u094d\\u092f \\u0905\\u0928\\u0947\\u0915\\u093e\\u0902\\u0938\\u093e\\u0920\\u0940 \\u092a\\u094d\\u0930\\u0947\\u0930\\u0923\\u093e\\u0926\\u093e\\u092f\\u0940 \\u0906\\u0939\\u0947 \\u0924\\u094d\\u092f\\u093e\\u0902\\u0928\\u093e \\u092e\\u093e\\u091d\\u0940 \\u092d\\u093e\\u0935\\u092a\\u0942\\u0930\\u094d\\u0923 \\u0936\\u094d\\u0930\\u0926\\u094d\\u0927\\u093e\\u0902\\u091c\\u0932\\u0940\"\n        ],\n        \"semantic_type\": \"\",\n        \"description\": \"\"\n      }\n    },\n    {\n      \"column\": \"Score\",\n      \"properties\": {\n        \"dtype\": \"number\",\n        \"std\": 0,\n        \"min\": -1,\n        \"max\": 1,\n        \"num_unique_values\": 3,\n        \"samples\": [\n          1,\n          -1,\n          0\n        ],\n        \"semantic_type\": \"\",\n        \"description\": \"\"\n      }\n    }\n  ]\n}",
              "type": "dataframe",
              "variable_name": "df"
            },
            "text/html": [
              "\n",
              "  <div id=\"df-1261058b-16a2-4668-9a0a-4ac0dc90a12e\" class=\"colab-df-container\">\n",
              "    <div>\n",
              "<style scoped>\n",
              "    .dataframe tbody tr th:only-of-type {\n",
              "        vertical-align: middle;\n",
              "    }\n",
              "\n",
              "    .dataframe tbody tr th {\n",
              "        vertical-align: top;\n",
              "    }\n",
              "\n",
              "    .dataframe thead th {\n",
              "        text-align: right;\n",
              "    }\n",
              "</style>\n",
              "<table border=\"1\" class=\"dataframe\">\n",
              "  <thead>\n",
              "    <tr style=\"text-align: right;\">\n",
              "      <th></th>\n",
              "      <th>Sentence</th>\n",
              "      <th>Score</th>\n",
              "    </tr>\n",
              "  </thead>\n",
              "  <tbody>\n",
              "    <tr>\n",
              "      <th>0</th>\n",
              "      <td>चा फक्त नारा देऊन उपयोग नाही महिला अत्याचाराच्या आरोपींना वेळीच कठोर शासनही झालं पाहिजे पण गहुंजे खटल्यात अक्षम्य दिरंगाई झाली आहे महिला सुरक्षेबाबत तत्परतेचे दावे फोल ठरले आहेत गहुंजेच्या आरोपींना फाशी होणेबाबत सरकारने तातडीने कायदेशीर पावले उचलली पाहिजे</td>\n",
              "      <td>1</td>\n",
              "    </tr>\n",
              "    <tr>\n",
              "      <th>1</th>\n",
              "      <td>पेट्रोल आणि डिझेलवर एक रूपया अधिभार लावल्याने शेतकर्‍यांना ट्रॅक्टर शेती मालवाहतूक यासाठी आता आणखी भार पडणार आहे शेतकर्‍यांसाठी एकही नवीन घोषणा योजना या अर्थसंकल्पात नाही शेतकरी महिला युवा अशा सर्व वर्गांना निराश करणारा हा अर्थसंकल्प आहे</td>\n",
              "      <td>-1</td>\n",
              "    </tr>\n",
              "    <tr>\n",
              "      <th>2</th>\n",
              "      <td>लूट झूट का राज भागावो रोजगार और विकास लावो हा नारा बुलंद करत निघालेल्या युवक काँग्रेसच्या युवा क्रांती यात्रेचे देवगाव फाटा जि वर्धा येथे युवक काँग्रेसच्या कार्यकर्त्यांनी दिमाखात स्वागत केले</td>\n",
              "      <td>1</td>\n",
              "    </tr>\n",
              "    <tr>\n",
              "      <th>3</th>\n",
              "      <td>महाराष्ट्र विकास आघाडी सरकारच्या मंत्रिमंडळ विस्तारासाठी विधानमंडळात संपन्न झालेल्या सोहळ्यात मंत्रिपदाची शपथ घेतलेल्या ३६ नवीन मंत्र्यांचे हार्दिक अभिनंदन महाराष्ट्राच्या उत्कर्षासाठी व सर्वांगीण विकासासाठी हे मंत्रिमंडळ कार्यरत राहोयासाठी शुभेच्छा</td>\n",
              "      <td>1</td>\n",
              "    </tr>\n",
              "    <tr>\n",
              "      <th>4</th>\n",
              "      <td>पिंपरीत अ‍ॅथलेटिक्स आणि विविध क्षेत्रांतल्या खेळाडूंसोबत बैठक घेतली गुणवान खेळाडूंना सरकारी नोकऱ्यांमध्ये ५ टक्के जागा देण्यासारखे महत्त्वाचे निर्णय आम्ही घेतले तसेच खेळाडूंच्या हिताचे निर्णय घेण्यासाठी नेहमीच कटिबद्ध आहेअसा विश्वास त्यांना दिला</td>\n",
              "      <td>1</td>\n",
              "    </tr>\n",
              "  </tbody>\n",
              "</table>\n",
              "</div>\n",
              "    <div class=\"colab-df-buttons\">\n",
              "\n",
              "  <div class=\"colab-df-container\">\n",
              "    <button class=\"colab-df-convert\" onclick=\"convertToInteractive('df-1261058b-16a2-4668-9a0a-4ac0dc90a12e')\"\n",
              "            title=\"Convert this dataframe to an interactive table.\"\n",
              "            style=\"display:none;\">\n",
              "\n",
              "  <svg xmlns=\"http://www.w3.org/2000/svg\" height=\"24px\" viewBox=\"0 -960 960 960\">\n",
              "    <path d=\"M120-120v-720h720v720H120Zm60-500h600v-160H180v160Zm220 220h160v-160H400v160Zm0 220h160v-160H400v160ZM180-400h160v-160H180v160Zm440 0h160v-160H620v160ZM180-180h160v-160H180v160Zm440 0h160v-160H620v160Z\"/>\n",
              "  </svg>\n",
              "    </button>\n",
              "\n",
              "  <style>\n",
              "    .colab-df-container {\n",
              "      display:flex;\n",
              "      gap: 12px;\n",
              "    }\n",
              "\n",
              "    .colab-df-convert {\n",
              "      background-color: #E8F0FE;\n",
              "      border: none;\n",
              "      border-radius: 50%;\n",
              "      cursor: pointer;\n",
              "      display: none;\n",
              "      fill: #1967D2;\n",
              "      height: 32px;\n",
              "      padding: 0 0 0 0;\n",
              "      width: 32px;\n",
              "    }\n",
              "\n",
              "    .colab-df-convert:hover {\n",
              "      background-color: #E2EBFA;\n",
              "      box-shadow: 0px 1px 2px rgba(60, 64, 67, 0.3), 0px 1px 3px 1px rgba(60, 64, 67, 0.15);\n",
              "      fill: #174EA6;\n",
              "    }\n",
              "\n",
              "    .colab-df-buttons div {\n",
              "      margin-bottom: 4px;\n",
              "    }\n",
              "\n",
              "    [theme=dark] .colab-df-convert {\n",
              "      background-color: #3B4455;\n",
              "      fill: #D2E3FC;\n",
              "    }\n",
              "\n",
              "    [theme=dark] .colab-df-convert:hover {\n",
              "      background-color: #434B5C;\n",
              "      box-shadow: 0px 1px 3px 1px rgba(0, 0, 0, 0.15);\n",
              "      filter: drop-shadow(0px 1px 2px rgba(0, 0, 0, 0.3));\n",
              "      fill: #FFFFFF;\n",
              "    }\n",
              "  </style>\n",
              "\n",
              "    <script>\n",
              "      const buttonEl =\n",
              "        document.querySelector('#df-1261058b-16a2-4668-9a0a-4ac0dc90a12e button.colab-df-convert');\n",
              "      buttonEl.style.display =\n",
              "        google.colab.kernel.accessAllowed ? 'block' : 'none';\n",
              "\n",
              "      async function convertToInteractive(key) {\n",
              "        const element = document.querySelector('#df-1261058b-16a2-4668-9a0a-4ac0dc90a12e');\n",
              "        const dataTable =\n",
              "          await google.colab.kernel.invokeFunction('convertToInteractive',\n",
              "                                                    [key], {});\n",
              "        if (!dataTable) return;\n",
              "\n",
              "        const docLinkHtml = 'Like what you see? Visit the ' +\n",
              "          '<a target=\"_blank\" href=https://colab.research.google.com/notebooks/data_table.ipynb>data table notebook</a>'\n",
              "          + ' to learn more about interactive tables.';\n",
              "        element.innerHTML = '';\n",
              "        dataTable['output_type'] = 'display_data';\n",
              "        await google.colab.output.renderOutput(dataTable, element);\n",
              "        const docLink = document.createElement('div');\n",
              "        docLink.innerHTML = docLinkHtml;\n",
              "        element.appendChild(docLink);\n",
              "      }\n",
              "    </script>\n",
              "  </div>\n",
              "\n",
              "\n",
              "<div id=\"df-f1b0b17d-7ea6-4a56-b598-8858217030d2\">\n",
              "  <button class=\"colab-df-quickchart\" onclick=\"quickchart('df-f1b0b17d-7ea6-4a56-b598-8858217030d2')\"\n",
              "            title=\"Suggest charts\"\n",
              "            style=\"display:none;\">\n",
              "\n",
              "<svg xmlns=\"http://www.w3.org/2000/svg\" height=\"24px\"viewBox=\"0 0 24 24\"\n",
              "     width=\"24px\">\n",
              "    <g>\n",
              "        <path d=\"M19 3H5c-1.1 0-2 .9-2 2v14c0 1.1.9 2 2 2h14c1.1 0 2-.9 2-2V5c0-1.1-.9-2-2-2zM9 17H7v-7h2v7zm4 0h-2V7h2v10zm4 0h-2v-4h2v4z\"/>\n",
              "    </g>\n",
              "</svg>\n",
              "  </button>\n",
              "\n",
              "<style>\n",
              "  .colab-df-quickchart {\n",
              "      --bg-color: #E8F0FE;\n",
              "      --fill-color: #1967D2;\n",
              "      --hover-bg-color: #E2EBFA;\n",
              "      --hover-fill-color: #174EA6;\n",
              "      --disabled-fill-color: #AAA;\n",
              "      --disabled-bg-color: #DDD;\n",
              "  }\n",
              "\n",
              "  [theme=dark] .colab-df-quickchart {\n",
              "      --bg-color: #3B4455;\n",
              "      --fill-color: #D2E3FC;\n",
              "      --hover-bg-color: #434B5C;\n",
              "      --hover-fill-color: #FFFFFF;\n",
              "      --disabled-bg-color: #3B4455;\n",
              "      --disabled-fill-color: #666;\n",
              "  }\n",
              "\n",
              "  .colab-df-quickchart {\n",
              "    background-color: var(--bg-color);\n",
              "    border: none;\n",
              "    border-radius: 50%;\n",
              "    cursor: pointer;\n",
              "    display: none;\n",
              "    fill: var(--fill-color);\n",
              "    height: 32px;\n",
              "    padding: 0;\n",
              "    width: 32px;\n",
              "  }\n",
              "\n",
              "  .colab-df-quickchart:hover {\n",
              "    background-color: var(--hover-bg-color);\n",
              "    box-shadow: 0 1px 2px rgba(60, 64, 67, 0.3), 0 1px 3px 1px rgba(60, 64, 67, 0.15);\n",
              "    fill: var(--button-hover-fill-color);\n",
              "  }\n",
              "\n",
              "  .colab-df-quickchart-complete:disabled,\n",
              "  .colab-df-quickchart-complete:disabled:hover {\n",
              "    background-color: var(--disabled-bg-color);\n",
              "    fill: var(--disabled-fill-color);\n",
              "    box-shadow: none;\n",
              "  }\n",
              "\n",
              "  .colab-df-spinner {\n",
              "    border: 2px solid var(--fill-color);\n",
              "    border-color: transparent;\n",
              "    border-bottom-color: var(--fill-color);\n",
              "    animation:\n",
              "      spin 1s steps(1) infinite;\n",
              "  }\n",
              "\n",
              "  @keyframes spin {\n",
              "    0% {\n",
              "      border-color: transparent;\n",
              "      border-bottom-color: var(--fill-color);\n",
              "      border-left-color: var(--fill-color);\n",
              "    }\n",
              "    20% {\n",
              "      border-color: transparent;\n",
              "      border-left-color: var(--fill-color);\n",
              "      border-top-color: var(--fill-color);\n",
              "    }\n",
              "    30% {\n",
              "      border-color: transparent;\n",
              "      border-left-color: var(--fill-color);\n",
              "      border-top-color: var(--fill-color);\n",
              "      border-right-color: var(--fill-color);\n",
              "    }\n",
              "    40% {\n",
              "      border-color: transparent;\n",
              "      border-right-color: var(--fill-color);\n",
              "      border-top-color: var(--fill-color);\n",
              "    }\n",
              "    60% {\n",
              "      border-color: transparent;\n",
              "      border-right-color: var(--fill-color);\n",
              "    }\n",
              "    80% {\n",
              "      border-color: transparent;\n",
              "      border-right-color: var(--fill-color);\n",
              "      border-bottom-color: var(--fill-color);\n",
              "    }\n",
              "    90% {\n",
              "      border-color: transparent;\n",
              "      border-bottom-color: var(--fill-color);\n",
              "    }\n",
              "  }\n",
              "</style>\n",
              "\n",
              "  <script>\n",
              "    async function quickchart(key) {\n",
              "      const quickchartButtonEl =\n",
              "        document.querySelector('#' + key + ' button');\n",
              "      quickchartButtonEl.disabled = true;  // To prevent multiple clicks.\n",
              "      quickchartButtonEl.classList.add('colab-df-spinner');\n",
              "      try {\n",
              "        const charts = await google.colab.kernel.invokeFunction(\n",
              "            'suggestCharts', [key], {});\n",
              "      } catch (error) {\n",
              "        console.error('Error during call to suggestCharts:', error);\n",
              "      }\n",
              "      quickchartButtonEl.classList.remove('colab-df-spinner');\n",
              "      quickchartButtonEl.classList.add('colab-df-quickchart-complete');\n",
              "    }\n",
              "    (() => {\n",
              "      let quickchartButtonEl =\n",
              "        document.querySelector('#df-f1b0b17d-7ea6-4a56-b598-8858217030d2 button');\n",
              "      quickchartButtonEl.style.display =\n",
              "        google.colab.kernel.accessAllowed ? 'block' : 'none';\n",
              "    })();\n",
              "  </script>\n",
              "</div>\n",
              "\n",
              "    </div>\n",
              "  </div>\n"
            ],
            "text/plain": [
              "                                                                                                                                                                                                                                                          Sentence  \\\n",
              "0  चा फक्त नारा देऊन उपयोग नाही महिला अत्याचाराच्या आरोपींना वेळीच कठोर शासनही झालं पाहिजे पण गहुंजे खटल्यात अक्षम्य दिरंगाई झाली आहे महिला सुरक्षेबाबत तत्परतेचे दावे फोल ठरले आहेत गहुंजेच्या आरोपींना फाशी होणेबाबत सरकारने तातडीने कायदेशीर पावले उचलली पाहिजे   \n",
              "1                    पेट्रोल आणि डिझेलवर एक रूपया अधिभार लावल्याने शेतकर्‍यांना ट्रॅक्टर शेती मालवाहतूक यासाठी आता आणखी भार पडणार आहे शेतकर्‍यांसाठी एकही नवीन घोषणा योजना या अर्थसंकल्पात नाही शेतकरी महिला युवा अशा सर्व वर्गांना निराश करणारा हा अर्थसंकल्प आहे   \n",
              "2                                                                  लूट झूट का राज भागावो रोजगार और विकास लावो हा नारा बुलंद करत निघालेल्या युवक काँग्रेसच्या युवा क्रांती यात्रेचे देवगाव फाटा जि वर्धा येथे युवक काँग्रेसच्या कार्यकर्त्यांनी दिमाखात स्वागत केले   \n",
              "3        महाराष्ट्र विकास आघाडी सरकारच्या मंत्रिमंडळ विस्तारासाठी विधानमंडळात संपन्न झालेल्या सोहळ्यात मंत्रिपदाची शपथ घेतलेल्या ३६ नवीन मंत्र्यांचे हार्दिक अभिनंदन महाराष्ट्राच्या उत्कर्षासाठी व सर्वांगीण विकासासाठी हे मंत्रिमंडळ कार्यरत राहोयासाठी शुभेच्छा   \n",
              "4            पिंपरीत अ‍ॅथलेटिक्स आणि विविध क्षेत्रांतल्या खेळाडूंसोबत बैठक घेतली गुणवान खेळाडूंना सरकारी नोकऱ्यांमध्ये ५ टक्के जागा देण्यासारखे महत्त्वाचे निर्णय आम्ही घेतले तसेच खेळाडूंच्या हिताचे निर्णय घेण्यासाठी नेहमीच कटिबद्ध आहेअसा विश्वास त्यांना दिला   \n",
              "\n",
              "   Score  \n",
              "0      1  \n",
              "1     -1  \n",
              "2      1  \n",
              "3      1  \n",
              "4      1  "
            ]
          },
          "execution_count": 44,
          "metadata": {},
          "output_type": "execute_result"
        }
      ],
      "source": [
        "# Reading Data\n",
        "df = pd.read_csv('/content/final_marathi_data.csv')\n",
        "df.head()"
      ]
    },
    {
      "cell_type": "code",
      "execution_count": null,
      "metadata": {
        "colab": {
          "base_uri": "https://localhost:8080/"
        },
        "id": "MkxhMfKp63aF",
        "outputId": "188ab577-3e07-42b1-ef26-d7af5eec6689"
      },
      "outputs": [
        {
          "name": "stdout",
          "output_type": "stream",
          "text": [
            "<class 'pandas.core.frame.DataFrame'>\n",
            "RangeIndex: 15164 entries, 0 to 15163\n",
            "Data columns (total 2 columns):\n",
            " #   Column    Non-Null Count  Dtype \n",
            "---  ------    --------------  ----- \n",
            " 0   Sentence  15164 non-null  object\n",
            " 1   Score     15164 non-null  int64 \n",
            "dtypes: int64(1), object(1)\n",
            "memory usage: 237.1+ KB\n"
          ]
        }
      ],
      "source": [
        "# Checking for null values and data types\n",
        "df.info()"
      ]
    },
    {
      "cell_type": "markdown",
      "metadata": {
        "id": "JmPVjokP63aF"
      },
      "source": [
        "## Data Preprocess"
      ]
    },
    {
      "cell_type": "code",
      "execution_count": null,
      "metadata": {
        "id": "u_CIqGH47Bck"
      },
      "outputs": [],
      "source": [
        "import unicodedata\n",
        "import regex as re\n",
        "\n",
        "def is_marathi(text):\n",
        "    marathi_script_range = re.compile(r'[\\p{Devanagari}]+')\n",
        "    return bool(re.match(marathi_script_range, text))\n",
        "\n",
        "def filter_non_marathi(text):\n",
        "    marathi_text = \"\"\n",
        "    for word in text.split():\n",
        "      for char in word:\n",
        "        if is_marathi(char):\n",
        "          marathi_text += char\n",
        "      marathi_text += \" \"\n",
        "    return marathi_text[:-1].strip()\n",
        "\n",
        "def normalize_marathi_text(text):\n",
        "    normalized_text = unicodedata.normalize('NFKC', text)\n",
        "    return normalized_text\n",
        "\n",
        "def remove_punctuation(text):\n",
        "    punctuation_pattern = re.compile(r'[^\\w\\s]')\n",
        "    text_without_punctuation = re.sub(punctuation_pattern, '', text)\n",
        "    return text_without_punctuation\n",
        "\n",
        "def remove_marathi_numbers(text):\n",
        "    pattern = r'[०-९]'\n",
        "    cleaned_text = re.sub(pattern, '', text)\n",
        "    return cleaned_text\n",
        "\n",
        "marathi_stopwords = [\n",
        "    \"काही\", \"ती\", \"असे\", \"म्हणून\", \"याच्य\", \"मी\", \"पण\", \"आण\", \"आहे\", \"होत\", \"आपल्या\", \"करून\", \"ते\",\n",
        "    \"आहे\", \"हे\", \"होत\", \"आणि\", \"आम्ही\", \"आहोत\", \"त्यानी\", \"त्याना\", \"त्यामुळे\", \"की\",\n",
        "    \"ते\", \"तो\", \"ती\", \"याना\", \"यानी\", \"असून\", \"आले\", \"आली\", \"आला\", \"का\",\n",
        "    \"करणयात\", \"किव्हा\", \"किंव्हा\", \"करणार\", \"करत\", \"करताना\", \"करते\", \"करतो\",\n",
        "    \"करून\", \"काम\", \"काय\", \"का\", \"कसा\", \"कसे\", \"कुठला\", \"कुठली\", \"कुठले\",\n",
        "    \"खरच\", \"गेल्या\", \"जाऊ\", \"जात\", \"जातात\", \"जाते\", \"जाणार\", \"जे\", \"झाला\",\n",
        "    \"झाली\", \"झाले\", \"झाल्या\", \"झालेला\", \"टा\", \"टी\", \"डॉ\", \"डॉ॰\", \"तर\", \"तरी\",\n",
        "    \"तरीही\", \"तसेच\", \"तसेच\", \"तसेची\", \"तसेचे\", \"तसेचा\", \"त्या\", \"त्याचा\", \"त्याची\",\n",
        "    \"त्याच्या\", \"त्यानी\", \"त्यामुळे\", \"त्यास\", \"त्यांना\", \"त्यांनी\", \"त्यांना\", \"त्यांनी\",\n",
        "    \"नाही\", \"पण\", \"मात्र\", \"या\", \"याचा\", \"याची\", \"याच्या\", \"याना\", \"यानी\", \"यास\",\n",
        "    \"यांचा\", \"यांची\", \"यांच्या\", \"यांना\", \"यांनी\", \"यांच्या\", \"येणार\", \"येत\",\n",
        "    \"राहिल्या\", \"व\", \"व्हा\", \"व्हाय\", \"वर\", \"सुरू\", \"होत्या\", \"होती\", \"होते\", \"होता\"\n",
        "]\n",
        "\n",
        "def remove_stopwords(text, stopwords):\n",
        "    words = text.split()\n",
        "    filtered_words = [word for word in words if word not in stopwords]\n",
        "    text_without_stopwords = ' '.join(filtered_words)\n",
        "    return text_without_stopwords\n",
        "\n",
        "suffixes = {\n",
        "    6: [\"समाविष्ट\",\"योग्यता\", \"प्रमाणे\"],\n",
        "    5: [\"विषयी\", \"समोरी\", \"असून\", \"तमाना\", \"यामुळे\", \"स्वरूप\", \"तयार\", \"तयारी\", \"सारखा\",\n",
        "        \"संपूर्ण\", \"देणगी\", \"करत\",  \"सारखी\", \"समज\", \"कारण\",  \"आवड\",  \"सारखं\", \"म्हणून\"],\n",
        "    4: [\"याच्या\", \"यांच्या\", \"योग्य\",],\n",
        "    3: [\"च्या\", \"च्या\", \"च्या\", \"लाही\", \"णार\", \"णाय\", \"णारा\",\n",
        "        \"णारी\", \"णारे\", \"यानी\", \"याला\", \"याचा\", \"याची\", \"यांचा\",\n",
        "        \"यांची\", \"पणी\", \"सुरू\", \"अशा\", \"च्या\", \"पण\", \"शील\",\n",
        "        \"पण\", \"कृत\", \"कधी\", \"येणे\", \"येत\", \"येते\", \"पण\", \"आधी\", \"मुळे\",\n",
        "        \"मात्र\", \"साठी\", \"साठी\"],\n",
        "    2: [\"ने\", \"च(्\" \"से\", \"त\" \"नी\",\"चे\", \"ला\", \"ची\" \"ला\", \"ता\", \"ती\", \"ले\", \"ली\", \"या\", \"ये\", \"णे\", \"णी\", \"चा\", \"ची\"],\n",
        "    1: [\"ा\", \"ी\", \"ु\", \"े\", \"ो\"]\n",
        "}\n",
        "\n",
        "def stem_marathi_word(word):\n",
        "    for length, suff_list in suffixes.items():\n",
        "            for suffix in suff_list:\n",
        "                if word.endswith(suffix):\n",
        "                  new_word = word[:-length]\n",
        "                  if(len(new_word)>1 and new_word[-1] in [\"ा\", \"ी\", \"ु\", \"े\", \"ो\"]):\n",
        "                    return new_word[:-1]\n",
        "    return word\n",
        "\n",
        "def stem_marathi_text(text):\n",
        "    stemmed_words = [stem_marathi_word(word) for word in text.split()]\n",
        "    stemmed_text = ' '.join(stemmed_words)\n",
        "    return stemmed_text\n",
        "\n",
        "def preprocess(df):\n",
        "  corpus = []\n",
        "  for mixed_text in df:\n",
        "\n",
        "    # Normalize Marathi text\n",
        "    normalized_text = normalize_marathi_text(mixed_text)\n",
        "\n",
        "    # Fitlter non Marathi words\n",
        "    newText = filter_non_marathi(normalized_text)\n",
        "\n",
        "    # Remove Punctuations\n",
        "    newText = remove_punctuation(newText)\n",
        "\n",
        "    # Remove numbers\n",
        "    newText = cleaned_marathi_text = remove_marathi_numbers(newText)\n",
        "\n",
        "    # Removing Stopwords\n",
        "    newText = remove_stopwords(newText, marathi_stopwords)\n",
        "\n",
        "    # Lematization\n",
        "    newText = stem_marathi_text(newText)\n",
        "\n",
        "    corpus.append(newText)\n",
        "  return corpus\n",
        "\n"
      ]
    },
    {
      "cell_type": "code",
      "execution_count": null,
      "metadata": {
        "id": "pgMMV2x-PsUD"
      },
      "outputs": [],
      "source": [
        "# Helper Function to convert probabilities to POSITIVE, NEGATIVE and NEUTRAL class\n",
        "def get_score(predictions):\n",
        "    positive_threshold = 0.6\n",
        "    negative_threshold = 0.5\n",
        "    sentiment_scores = []\n",
        "    for pred in predictions:\n",
        "        if pred >= positive_threshold:\n",
        "            sentiment_scores.append('Positive')\n",
        "        elif pred <= negative_threshold:\n",
        "            sentiment_scores.append('Negative')\n",
        "        else:\n",
        "            sentiment_scores.append('Neutral')\n",
        "    return sentiment_scores"
      ]
    },
    {
      "cell_type": "code",
      "execution_count": null,
      "metadata": {
        "id": "_MS-gUQZ-0WX"
      },
      "outputs": [],
      "source": [
        "X = preprocess(df[\"Sentence\"])\n",
        "y = df['Score'].values"
      ]
    },
    {
      "cell_type": "markdown",
      "metadata": {
        "id": "OvXa-lYi63aH"
      },
      "source": [
        "## Bow"
      ]
    },
    {
      "cell_type": "markdown",
      "metadata": {
        "id": "7uLgEzxfexSB"
      },
      "source": [
        "The bag-of-words model is a model of text which uses a representation of text that is based on an unordered collection (or \"bag\") of words.\n",
        "\n",
        "Bag of Words model is used to preprocess the text by converting it into a bag of words, which keeps a count of the total occurrences of most frequently used words."
      ]
    },
    {
      "cell_type": "code",
      "execution_count": null,
      "metadata": {
        "id": "Yeb4zO1963aH"
      },
      "outputs": [],
      "source": [
        "# Applying the BOW model\n",
        "from sklearn.feature_extraction.text import CountVectorizer\n",
        "vectorizer = CountVectorizer(max_features=1500)"
      ]
    },
    {
      "cell_type": "code",
      "execution_count": null,
      "metadata": {
        "id": "tzjCyPPR63aH"
      },
      "outputs": [],
      "source": [
        "# Fitting the countVectorizer, defining the input and class variables\n",
        "X = vectorizer.fit_transform(X)\n",
        "y = df[\"Score\"].to_numpy()"
      ]
    },
    {
      "cell_type": "code",
      "execution_count": null,
      "metadata": {
        "id": "4PCBVUVB63aH"
      },
      "outputs": [],
      "source": [
        "# Train Test Split\n",
        "X_train, X_test, y_train, y_test = train_test_split(X, y, test_size=0.2, random_state=42)"
      ]
    },
    {
      "cell_type": "code",
      "execution_count": null,
      "metadata": {
        "colab": {
          "base_uri": "https://localhost:8080/",
          "height": 75
        },
        "id": "VTWT_PuC63aH",
        "outputId": "6fc731f4-e5a1-43f4-fafe-9b938ac2d991"
      },
      "outputs": [
        {
          "data": {
            "text/html": [
              "<style>#sk-container-id-1 {color: black;background-color: white;}#sk-container-id-1 pre{padding: 0;}#sk-container-id-1 div.sk-toggleable {background-color: white;}#sk-container-id-1 label.sk-toggleable__label {cursor: pointer;display: block;width: 100%;margin-bottom: 0;padding: 0.3em;box-sizing: border-box;text-align: center;}#sk-container-id-1 label.sk-toggleable__label-arrow:before {content: \"▸\";float: left;margin-right: 0.25em;color: #696969;}#sk-container-id-1 label.sk-toggleable__label-arrow:hover:before {color: black;}#sk-container-id-1 div.sk-estimator:hover label.sk-toggleable__label-arrow:before {color: black;}#sk-container-id-1 div.sk-toggleable__content {max-height: 0;max-width: 0;overflow: hidden;text-align: left;background-color: #f0f8ff;}#sk-container-id-1 div.sk-toggleable__content pre {margin: 0.2em;color: black;border-radius: 0.25em;background-color: #f0f8ff;}#sk-container-id-1 input.sk-toggleable__control:checked~div.sk-toggleable__content {max-height: 200px;max-width: 100%;overflow: auto;}#sk-container-id-1 input.sk-toggleable__control:checked~label.sk-toggleable__label-arrow:before {content: \"▾\";}#sk-container-id-1 div.sk-estimator input.sk-toggleable__control:checked~label.sk-toggleable__label {background-color: #d4ebff;}#sk-container-id-1 div.sk-label input.sk-toggleable__control:checked~label.sk-toggleable__label {background-color: #d4ebff;}#sk-container-id-1 input.sk-hidden--visually {border: 0;clip: rect(1px 1px 1px 1px);clip: rect(1px, 1px, 1px, 1px);height: 1px;margin: -1px;overflow: hidden;padding: 0;position: absolute;width: 1px;}#sk-container-id-1 div.sk-estimator {font-family: monospace;background-color: #f0f8ff;border: 1px dotted black;border-radius: 0.25em;box-sizing: border-box;margin-bottom: 0.5em;}#sk-container-id-1 div.sk-estimator:hover {background-color: #d4ebff;}#sk-container-id-1 div.sk-parallel-item::after {content: \"\";width: 100%;border-bottom: 1px solid gray;flex-grow: 1;}#sk-container-id-1 div.sk-label:hover label.sk-toggleable__label {background-color: #d4ebff;}#sk-container-id-1 div.sk-serial::before {content: \"\";position: absolute;border-left: 1px solid gray;box-sizing: border-box;top: 0;bottom: 0;left: 50%;z-index: 0;}#sk-container-id-1 div.sk-serial {display: flex;flex-direction: column;align-items: center;background-color: white;padding-right: 0.2em;padding-left: 0.2em;position: relative;}#sk-container-id-1 div.sk-item {position: relative;z-index: 1;}#sk-container-id-1 div.sk-parallel {display: flex;align-items: stretch;justify-content: center;background-color: white;position: relative;}#sk-container-id-1 div.sk-item::before, #sk-container-id-1 div.sk-parallel-item::before {content: \"\";position: absolute;border-left: 1px solid gray;box-sizing: border-box;top: 0;bottom: 0;left: 50%;z-index: -1;}#sk-container-id-1 div.sk-parallel-item {display: flex;flex-direction: column;z-index: 1;position: relative;background-color: white;}#sk-container-id-1 div.sk-parallel-item:first-child::after {align-self: flex-end;width: 50%;}#sk-container-id-1 div.sk-parallel-item:last-child::after {align-self: flex-start;width: 50%;}#sk-container-id-1 div.sk-parallel-item:only-child::after {width: 0;}#sk-container-id-1 div.sk-dashed-wrapped {border: 1px dashed gray;margin: 0 0.4em 0.5em 0.4em;box-sizing: border-box;padding-bottom: 0.4em;background-color: white;}#sk-container-id-1 div.sk-label label {font-family: monospace;font-weight: bold;display: inline-block;line-height: 1.2em;}#sk-container-id-1 div.sk-label-container {text-align: center;}#sk-container-id-1 div.sk-container {/* jupyter's `normalize.less` sets `[hidden] { display: none; }` but bootstrap.min.css set `[hidden] { display: none !important; }` so we also need the `!important` here to be able to override the default hidden behavior on the sphinx rendered scikit-learn.org. See: https://github.com/scikit-learn/scikit-learn/issues/21755 */display: inline-block !important;position: relative;}#sk-container-id-1 div.sk-text-repr-fallback {display: none;}</style><div id=\"sk-container-id-1\" class=\"sk-top-container\"><div class=\"sk-text-repr-fallback\"><pre>RandomForestClassifier()</pre><b>In a Jupyter environment, please rerun this cell to show the HTML representation or trust the notebook. <br />On GitHub, the HTML representation is unable to render, please try loading this page with nbviewer.org.</b></div><div class=\"sk-container\" hidden><div class=\"sk-item\"><div class=\"sk-estimator sk-toggleable\"><input class=\"sk-toggleable__control sk-hidden--visually\" id=\"sk-estimator-id-1\" type=\"checkbox\" checked><label for=\"sk-estimator-id-1\" class=\"sk-toggleable__label sk-toggleable__label-arrow\">RandomForestClassifier</label><div class=\"sk-toggleable__content\"><pre>RandomForestClassifier()</pre></div></div></div></div></div>"
            ],
            "text/plain": [
              "RandomForestClassifier()"
            ]
          },
          "execution_count": 13,
          "metadata": {},
          "output_type": "execute_result"
        }
      ],
      "source": [
        "# Fitting a simple ML model, Random Forest\n",
        "rfc1 = RandomForestClassifier()\n",
        "rfc1.fit(X_train, y_train)"
      ]
    },
    {
      "cell_type": "code",
      "execution_count": null,
      "metadata": {
        "colab": {
          "base_uri": "https://localhost:8080/"
        },
        "id": "V_dkYN_F63aI",
        "outputId": "d203218b-5de6-46c7-c8a8-b3aaaf631259"
      },
      "outputs": [
        {
          "name": "stdout",
          "output_type": "stream",
          "text": [
            "Accuracy on the marathi test set: 0.6851302340916584\n"
          ]
        }
      ],
      "source": [
        "# Testing on Test data, and finding Accuracy\n",
        "y_pred1 = rfc1.predict(X_test)\n",
        "accuracy = accuracy_score(y_test, y_pred1)\n",
        "print(f\"Accuracy on the marathi test set: {accuracy}\")"
      ]
    },
    {
      "cell_type": "code",
      "execution_count": null,
      "metadata": {
        "colab": {
          "base_uri": "https://localhost:8080/"
        },
        "id": "lkYsuc1BLRlz",
        "outputId": "56a48982-0888-4588-bfa2-2519d4656a05"
      },
      "outputs": [
        {
          "name": "stdout",
          "output_type": "stream",
          "text": [
            "Classification Report:\n",
            "              precision    recall  f1-score   support\n",
            "\n",
            "          -1       0.67      0.72      0.70       963\n",
            "           0       0.67      0.68      0.68      1066\n",
            "           1       0.71      0.65      0.68      1004\n",
            "\n",
            "    accuracy                           0.69      3033\n",
            "   macro avg       0.69      0.69      0.69      3033\n",
            "weighted avg       0.69      0.69      0.68      3033\n",
            "\n"
          ]
        }
      ],
      "source": [
        "# Classification Report\n",
        "from sklearn.metrics import accuracy_score, classification_report, confusion_matrix\n",
        "report = classification_report(y_test, y_pred1)\n",
        "print(\"Classification Report:\")\n",
        "print(report)"
      ]
    },
    {
      "cell_type": "code",
      "execution_count": null,
      "metadata": {
        "id": "dSi7dB_IQPT4"
      },
      "outputs": [],
      "source": [
        "# Testing on unseen data 1\n",
        "sent = \"आजचा संघर्ष उद्याचे सामर्थ्य निर्माण करतो, विचार बदला आयुष्य बदलेल.\"\n",
        "preprocessed_text = preprocess([sent])\n",
        "final_text = vectorizer.transform(preprocessed_text)"
      ]
    },
    {
      "cell_type": "code",
      "execution_count": null,
      "metadata": {
        "colab": {
          "base_uri": "https://localhost:8080/"
        },
        "id": "nIkVH-_pPyIA",
        "outputId": "86c1057e-44ae-4d08-8481-194e411b2b58"
      },
      "outputs": [
        {
          "name": "stdout",
          "output_type": "stream",
          "text": [
            "['Positive']\n"
          ]
        }
      ],
      "source": [
        "y_pred = rfc1.predict_proba(final_text)[:, 1]\n",
        "sentiment_scores = get_score(y_pred)\n",
        "print(sentiment_scores)"
      ]
    },
    {
      "cell_type": "code",
      "execution_count": null,
      "metadata": {
        "id": "tgFU1gKzSgpj"
      },
      "outputs": [],
      "source": [
        "# Testing on unseen data 2\n",
        "sent = \"त्याच्या स्नेहातून आम्हाला विश्वासघात झाला.\"\n",
        "preprocessed_text = preprocess([sent])\n",
        "final_text = vectorizer.transform(preprocessed_text)"
      ]
    },
    {
      "cell_type": "code",
      "execution_count": null,
      "metadata": {
        "colab": {
          "base_uri": "https://localhost:8080/"
        },
        "id": "r4VhLUTqSiPJ",
        "outputId": "87530682-ffbb-4ade-c997-1b14fc5fcfe9"
      },
      "outputs": [
        {
          "name": "stdout",
          "output_type": "stream",
          "text": [
            "['Negative']\n"
          ]
        }
      ],
      "source": [
        "y_pred = rfc1.predict_proba(final_text)[:, 1]\n",
        "sentiment_scores = get_score(y_pred)\n",
        "print(sentiment_scores)"
      ]
    },
    {
      "cell_type": "markdown",
      "metadata": {
        "id": "fqNGhTT863aI"
      },
      "source": [
        "## Word Embeddings using MahaNLP libraries"
      ]
    },
    {
      "cell_type": "markdown",
      "metadata": {
        "id": "1EWiDjLAfW7k"
      },
      "source": [
        "Word Embeddings are numeric representations of words in a lower-dimensional space, capturing semantic and syntactic information."
      ]
    },
    {
      "cell_type": "code",
      "execution_count": null,
      "metadata": {
        "id": "9R8GAUud63aG"
      },
      "outputs": [],
      "source": [
        "import mahaNLP\n",
        "from mahaNLP.preprocess import Preprocess\n",
        "from mahaNLP.tokenizer import Tokenize\n",
        "from mahaNLP.similarity import SimilarityAnalyzer\n",
        "\n",
        "# Creating Objects\n",
        "tokenizer = Tokenize()\n",
        "preprocessor = Preprocess()\n",
        "sa = SimilarityAnalyzer()"
      ]
    },
    {
      "cell_type": "code",
      "execution_count": null,
      "metadata": {
        "colab": {
          "base_uri": "https://localhost:8080/"
        },
        "id": "oYenhmFafq2_",
        "outputId": "048a818f-c1a7-491b-dfb1-ab501134849f"
      },
      "outputs": [
        {
          "name": "stdout",
          "output_type": "stream",
          "text": [
            "[-2.26324443e-02 -4.97051165e-04 -2.56957728e-02  2.28839251e-03\n",
            " -1.42963519e-02 -1.10252956e-02 -1.11475708e-02 -7.22294673e-03\n",
            " -4.45532240e-03  8.30940064e-03 -5.96412923e-03  4.56204219e-03\n",
            "  1.65175125e-02 -9.67977941e-03 -1.29048387e-02 -1.10543622e-02\n",
            "  2.63414346e-03 -3.42494645e-03  8.76469817e-03  7.57106580e-04\n",
            " -8.43753759e-03 -4.14035609e-03 -3.93050024e-03  1.75644252e-02\n",
            " -4.34277393e-03  2.12560017e-02  4.18456877e-03  3.05200787e-03\n",
            "  7.12956628e-03  8.12358782e-03  1.94603682e-03  1.49035882e-02\n",
            " -1.34547299e-03  2.91491044e-03 -5.45054208e-03  1.33419060e-03\n",
            " -2.41460782e-02 -4.34481865e-03  5.59834670e-03 -1.34870922e-02\n",
            " -1.45083638e-02  4.35144058e-04 -9.54359304e-03 -3.48413596e-04\n",
            "  2.06707953e-03 -4.82641160e-04 -1.01466794e-02 -1.52115747e-02\n",
            " -4.46726847e-03  3.88901425e-03  1.00916158e-02 -3.27809416e-02\n",
            "  3.50684747e-02  9.42701567e-03  6.42330502e-04 -1.29294852e-02\n",
            "  4.22950659e-04 -1.09158922e-02 -4.55000252e-03 -4.28421702e-03\n",
            "  1.15404241e-02  3.78591344e-02 -2.06856802e-02 -1.44283222e-02\n",
            "  7.84141477e-03 -1.45212756e-02  8.48519336e-03  5.03754569e-03\n",
            " -1.56104490e-02 -7.29488733e-04  1.12714581e-02  1.00723468e-02\n",
            "  1.24538798e-04  6.82145637e-03 -8.90667550e-03  1.60458474e-03\n",
            "  5.75768203e-03 -1.99824991e-03  3.84653956e-02 -1.20826960e-02\n",
            "  9.52392537e-03  6.06615981e-03 -1.53858829e-02  5.28712478e-03\n",
            "  9.37370956e-03  1.28736328e-02  1.41601451e-02  5.54898148e-03\n",
            "  1.00614717e-02  1.48007628e-02  2.92772185e-02 -2.13374477e-02\n",
            "  1.62529293e-02  1.83513388e-02 -2.15224293e-03  1.78172276e-03\n",
            " -8.29605758e-03 -1.36979083e-02 -6.21541589e-03 -7.28410995e-03\n",
            "  7.50765624e-03 -5.65591082e-03  2.41653565e-02 -7.24744238e-03\n",
            "  1.59670878e-02 -2.07878072e-02  7.23370956e-03 -1.04228407e-02\n",
            " -2.87736487e-03 -5.59610734e-03 -1.70980371e-03 -1.36738168e-02\n",
            " -1.02518275e-02  9.70228668e-03  3.87447737e-02  4.51410795e-03\n",
            "  2.40194667e-02  8.86968803e-03 -3.69604386e-04  1.66562628e-02\n",
            "  1.29334035e-03 -1.80165411e-03  5.50515624e-03  3.58947879e-03\n",
            " -1.41522591e-03  2.66058254e-03  2.20153923e-03  3.53463106e-02\n",
            "  6.40029367e-03 -7.21037015e-03  1.27735250e-02  8.45456868e-03\n",
            "  2.61245621e-03  2.41278708e-02 -1.71773303e-02 -9.73546878e-03\n",
            " -1.14511121e-02 -4.83635580e-03  4.35042474e-03  6.16341131e-04\n",
            "  7.78816687e-03 -1.49267409e-02  2.69627734e-03 -5.04911970e-03\n",
            "  1.17819030e-02  6.08953973e-03 -6.46616332e-03 -2.07992038e-03\n",
            "  1.40008722e-02  4.33771638e-03 -2.04943884e-02  2.48708203e-02\n",
            "  1.00756558e-02 -5.91647904e-03 -1.23868063e-02 -2.14562519e-03\n",
            "  7.01985788e-03 -1.13095669e-02 -2.55691679e-03  1.93319116e-02\n",
            " -4.15604515e-03  5.29093668e-03  1.48218097e-02  6.58838917e-03\n",
            " -9.32501070e-03 -1.18040871e-02  5.08236326e-03 -8.59092921e-03\n",
            "  1.85985621e-02 -1.72076526e-03  7.98337813e-03  6.94192667e-03\n",
            " -1.51404589e-02  2.25984938e-02  8.80406518e-03  6.78948709e-04\n",
            "  1.89014152e-02 -5.38421096e-03 -2.38839467e-03 -1.28859403e-02\n",
            " -3.56124132e-03  4.33402194e-04  1.04454504e-02 -3.41513846e-03\n",
            " -1.26849832e-02  1.59543082e-02 -2.83190719e-04 -1.98843796e-03\n",
            " -2.87184417e-02  7.40969786e-03 -2.01132585e-04 -1.11593213e-02\n",
            " -2.24869302e-03 -1.08395284e-02  4.01344663e-03 -3.60481627e-03\n",
            "  1.88853429e-03  9.76267364e-03  3.67700793e-02 -2.11789738e-02\n",
            " -9.41545935e-04  5.08792419e-03  1.54812569e-02 -2.18404830e-03\n",
            "  6.60516601e-03  3.85429757e-03 -1.14796804e-02 -3.69339846e-02\n",
            " -8.41482636e-03  3.57952574e-03  6.73405500e-03  1.63104180e-02\n",
            " -1.00335190e-02 -1.86404604e-02  5.23045892e-03  2.14910088e-03\n",
            " -5.74840512e-03  1.31236576e-02  9.22330376e-03  1.99771412e-02\n",
            "  1.18089363e-03  3.91317066e-03  3.43772175e-04 -1.29143689e-02\n",
            "  1.51444785e-03 -7.95836560e-03  1.34197716e-02 -1.02140447e-02\n",
            "  1.64640900e-02 -1.94899272e-02 -3.63972015e-03  1.61455125e-02\n",
            " -6.62535662e-03 -2.08471399e-02 -9.94759146e-03  5.30224247e-03\n",
            " -8.41962546e-03  2.03233445e-03 -9.05656070e-03 -6.61607878e-03\n",
            " -2.47025192e-02  2.96841469e-02  6.11562654e-03  3.49043980e-02\n",
            " -1.59431305e-02 -3.65662798e-02 -7.98926631e-04  8.09472892e-03\n",
            "  1.33336829e-02 -9.83813684e-03 -5.60694141e-03  5.24217729e-03\n",
            " -4.55280626e-03  8.21996294e-03 -6.59548864e-03 -1.83751155e-02\n",
            "  7.19430065e-03 -8.21591821e-03  2.44677090e-03 -1.83822345e-02\n",
            "  7.46898679e-03 -1.49230789e-02  5.68625191e-03 -8.06141552e-03\n",
            "  5.85257448e-03 -6.28916500e-03  5.91968279e-03  1.58862546e-02\n",
            " -8.10963381e-03 -5.50841494e-03 -7.34958565e-03  2.11462006e-02\n",
            " -8.98122555e-04 -1.45667158e-02  6.53992349e-04 -7.52546475e-04\n",
            "  1.05576566e-03 -1.86344050e-02 -1.37288151e-02  1.26549648e-03\n",
            "  8.12636502e-03 -2.04929011e-03 -1.64456647e-02  1.05077103e-02\n",
            " -1.21271266e-02  8.66727997e-03  2.99270707e-03 -1.32316360e-02\n",
            " -5.28857531e-03  5.32484427e-03  2.30345204e-02 -1.60655361e-02\n",
            " -2.18089932e-04  1.93777271e-02 -2.00607516e-02 -6.73689554e-03\n",
            " -8.11866135e-04 -9.26170312e-03 -1.32689867e-02 -1.79489620e-03\n",
            "  3.82291363e-03  1.87891405e-02 -2.20368635e-02  1.19530205e-02\n",
            "  5.72810555e-03  3.69485021e-02  1.90470330e-02 -4.33271937e-03\n",
            "  2.52860971e-03  1.59891485e-03 -2.30452903e-02 -1.17557421e-02\n",
            "  2.43369732e-02  4.87315888e-03 -4.35216054e-02  2.45632022e-03\n",
            "  9.75982659e-03  1.67867690e-02 -8.31354060e-04  2.88203685e-03\n",
            " -1.78321693e-02  1.05263786e-02  1.02330642e-02  1.76881086e-02\n",
            "  1.13515381e-03  6.24196930e-03 -1.58473607e-02  8.85644462e-03\n",
            " -5.17786620e-03  2.77287699e-02 -1.68101825e-02  2.21421793e-02\n",
            "  6.66043581e-03 -2.44456474e-02 -9.06530709e-04 -1.74086969e-02\n",
            "  1.37236239e-02  1.19599923e-02  9.21919756e-03  2.47680154e-02\n",
            "  1.09134726e-02  1.50066875e-02  9.81575530e-03 -1.33746136e-02\n",
            " -8.64937715e-03 -9.05085821e-03  3.72832199e-03 -1.65470224e-03\n",
            " -1.45141510e-02 -3.40782362e-03 -7.01228622e-03 -1.57639571e-02\n",
            "  6.66685356e-03  8.61251820e-03 -1.05416467e-02  2.60209031e-02\n",
            " -1.69809144e-02 -5.70313958e-03 -6.59899367e-03 -7.46226497e-03\n",
            " -9.87876439e-04  2.66116671e-03 -3.81437130e-03 -2.00845525e-02\n",
            "  1.13750556e-02 -6.92016562e-04  2.68632616e-03 -7.24327657e-03\n",
            "  4.66503622e-03 -4.67828894e-03  1.92865252e-03 -7.18256971e-03\n",
            " -1.21851102e-03  6.73471019e-03  2.21589524e-02  1.30409154e-03\n",
            " -1.57541584e-03 -8.40549637e-03  5.02269669e-03 -8.55813920e-03\n",
            " -9.02034901e-03 -1.79648318e-03  2.61128438e-03  7.33430125e-03\n",
            "  4.99591185e-03  2.71703675e-02  1.22584328e-02  1.47593406e-03\n",
            "  1.07963998e-02 -1.93542650e-03 -5.60978102e-03 -2.91470787e-03\n",
            " -2.75114346e-02 -8.36878736e-03 -1.72700919e-02  2.00001616e-02\n",
            " -6.21029036e-03  2.49411762e-02  9.64050647e-04 -3.10632196e-04\n",
            "  1.77695565e-02  1.54521745e-02 -1.65822729e-02 -6.94483379e-03\n",
            " -8.20294861e-03 -1.91022549e-02  7.65621103e-03 -5.38463937e-03\n",
            "  1.06033133e-02  2.18504481e-03 -4.23439639e-03  5.15827211e-03\n",
            "  7.16934726e-03 -1.56685282e-02  9.46545042e-03  1.52057698e-02\n",
            " -1.39001328e-02  1.36505309e-02  1.29482877e-02 -2.91304709e-03\n",
            "  1.50704896e-02  2.65211822e-03  2.93097785e-03  2.05693254e-03\n",
            " -7.68053066e-03  1.51574332e-02 -2.28131469e-03  1.09464740e-02\n",
            "  2.30952818e-02 -4.70356736e-03  2.53843522e-04 -3.83491232e-03\n",
            "  5.50157344e-03 -3.76843273e-05 -6.89036632e-03 -2.44800397e-03\n",
            " -4.95265936e-03 -1.14780515e-02  4.70845262e-03 -7.34203774e-03\n",
            " -1.11265024e-02  3.29673616e-03 -7.53050530e-03 -2.66778395e-02\n",
            "  1.23426542e-02  1.28181381e-02  5.10402163e-03 -1.23347742e-02\n",
            "  1.30618969e-02 -6.62318151e-03 -5.81712811e-04  7.73608591e-03\n",
            "  3.17766005e-03 -6.45557838e-03  3.93939903e-03  1.19006820e-02\n",
            " -1.82689121e-03  1.36271333e-02 -9.35918931e-03 -8.87541007e-03\n",
            "  9.53220669e-03  3.70521173e-02  4.13900521e-03  5.67698246e-03\n",
            " -4.10955865e-03  4.47262079e-03 -3.22596123e-03  6.16685487e-03\n",
            " -8.84395384e-04 -1.50600774e-02  7.88480137e-03  1.46523323e-02\n",
            " -1.98542923e-02 -2.38788147e-02  2.16401722e-02  6.02151500e-03\n",
            " -7.73279229e-03 -1.31760398e-02  4.05324483e-03  6.33594440e-03\n",
            " -1.50859868e-02  4.68709087e-03  6.84956880e-03 -9.17219184e-03\n",
            " -1.60844233e-02  1.60456020e-02  3.97099601e-03 -1.24092270e-02\n",
            " -2.48739347e-02 -6.49882108e-03  2.49665114e-03  1.03791002e-02\n",
            "  3.73095856e-04  9.27299168e-03 -7.13822944e-03  3.52236116e-03\n",
            "  1.14505943e-02  1.39981997e-03  4.64361627e-03  3.62134119e-03\n",
            " -2.97282264e-03  5.81571925e-03 -5.77756856e-03 -1.88732035e-02\n",
            "  2.41355449e-02  1.52406180e-02 -7.82568101e-03  8.94280337e-03\n",
            " -2.56293472e-02  1.98423001e-03 -3.61754443e-03  2.13032402e-02\n",
            "  1.60001069e-02 -3.66727734e-04  1.48322992e-03  1.31056402e-02\n",
            "  1.56061852e-03 -9.50697158e-03  4.56544617e-03  5.86873246e-03\n",
            " -2.43274551e-02 -8.03894363e-03 -3.93036334e-03 -3.86812305e-03\n",
            " -3.72583861e-03 -1.34929381e-02 -1.14988973e-02  3.99360107e-03\n",
            " -4.07447340e-03  4.88190167e-03  1.93094723e-02 -7.75027601e-03\n",
            " -1.15953144e-02 -5.39739907e-04 -2.44251098e-02  9.34395753e-03\n",
            "  1.10331206e-02  1.19762849e-02 -2.83899507e-03  2.11679819e-03\n",
            "  2.42214929e-03  1.16879093e-02 -7.03497138e-03 -7.41921482e-04\n",
            " -1.33388136e-02 -7.38807162e-03  1.08255241e-02 -5.85857686e-03\n",
            " -2.50054174e-03  5.38212899e-03 -3.67085892e-03 -2.07486693e-02\n",
            " -1.63469871e-03 -5.52645465e-03 -2.72564054e-03  2.93787103e-02\n",
            "  5.00141224e-03 -2.05469987e-04  5.37052145e-03 -2.98558571e-03\n",
            " -1.34490747e-02 -1.56022310e-02  1.79675722e-03 -1.31720817e-02\n",
            "  3.71505506e-02 -1.23286322e-02  1.16419028e-02 -1.28814634e-02\n",
            " -2.05552392e-03 -2.09562620e-03  7.58441584e-03 -1.82783809e-02\n",
            " -2.55199485e-02 -2.31140153e-03 -5.49240550e-03  1.12132076e-02\n",
            "  2.27530627e-03 -1.70458027e-03 -5.39056631e-03  6.01841183e-03\n",
            "  1.40170744e-02 -2.07015360e-03 -7.21454248e-03 -4.55053383e-03\n",
            "  1.73045602e-02  2.50624842e-03 -6.06386643e-03  4.96727368e-03\n",
            " -8.10189452e-03 -1.01169683e-02 -8.30476359e-03  9.46634915e-03\n",
            "  2.79779010e-03 -2.52598226e-02 -5.13966009e-03 -6.02415670e-03\n",
            " -2.17288155e-02 -7.86900613e-03  2.52907374e-03  1.19538475e-02\n",
            " -6.90671755e-03  1.42048197e-02 -3.48183475e-02  7.22035347e-03\n",
            "  1.57099590e-02 -4.58233012e-03  5.60058281e-03  8.42462294e-03\n",
            " -4.48279455e-03 -1.58540588e-02  9.46365297e-03  3.35803349e-03\n",
            " -3.42003815e-02  4.58833948e-03  6.40294841e-03  1.26022007e-02\n",
            " -1.66710513e-03 -1.01524247e-02  1.26770092e-03 -1.99514795e-02\n",
            "  3.53078614e-03  7.64200091e-03 -1.95525121e-02 -3.94364772e-03\n",
            " -4.64344397e-03  1.83718726e-02 -8.11361067e-04  2.86331889e-03\n",
            "  2.18312852e-02  1.58837568e-02 -1.82086360e-02 -8.27248208e-03\n",
            " -2.30757352e-02 -3.77574703e-03  1.80907659e-02  4.74003889e-03\n",
            "  5.41969854e-03  1.49852196e-02 -2.99202222e-02 -1.51549866e-02\n",
            "  3.75170028e-04  7.28322193e-03  4.73985798e-04 -4.06432673e-02\n",
            " -6.94472063e-03  1.68855581e-02  1.87048106e-03  2.44585443e-02\n",
            " -1.89286517e-03  2.98990146e-03 -1.88473314e-02  1.92062985e-02\n",
            " -7.36264838e-03  1.52584072e-02 -8.68502725e-03  1.95182476e-03\n",
            "  1.00073991e-02 -4.83101979e-03  1.45010976e-03 -1.39471097e-02\n",
            " -7.31338235e-03 -2.52277078e-03 -2.43088370e-03 -5.61223226e-03\n",
            "  1.21836402e-02 -2.14511398e-02 -8.66288878e-03 -2.70324666e-03\n",
            "  1.35904653e-02  2.50094733e-03  5.87902637e-03  9.67119168e-03\n",
            "  4.11415379e-03 -1.05201639e-02  6.25415100e-03 -1.79521758e-02\n",
            "  2.65897135e-03  1.69034414e-02 -1.06036551e-02  4.01624152e-03\n",
            " -6.34396495e-03  7.26065645e-03 -8.26381519e-03 -5.30778337e-03\n",
            "  3.41146393e-03  4.11043782e-03  4.61161276e-03  2.37275893e-03\n",
            " -1.51608102e-02  4.81731072e-03 -1.46156466e-02 -6.60691271e-03\n",
            " -2.34822230e-03  1.38190538e-02 -9.17224679e-03  3.46388184e-02\n",
            "  1.04182577e-02 -4.32125246e-03  1.37420520e-02 -1.00499559e-02\n",
            " -4.32022195e-03 -1.34243090e-02  3.34319798e-03 -8.61142296e-03\n",
            " -2.88996752e-03 -8.46810825e-03 -1.06757246e-02  2.27636229e-02\n",
            "  1.60555895e-02 -1.52519690e-02  8.38960707e-03  1.35426233e-02\n",
            "  3.41816852e-03 -1.85202453e-02  7.32613262e-03  9.27590765e-04\n",
            "  3.43722198e-03  1.37256347e-02 -1.64836626e-02  3.59632336e-02\n",
            "  4.56628297e-03 -1.22563923e-02  4.57753846e-03 -3.03537883e-02\n",
            " -2.69524585e-02  1.59028750e-02 -4.91745025e-03 -1.12016182e-02\n",
            "  1.09671680e-02 -1.28808385e-02  1.45289283e-02  2.03281958e-02\n",
            "  8.42132419e-03 -6.60398437e-05 -4.10471956e-04 -1.73849296e-02\n",
            "  3.07643088e-03  1.78764872e-02 -4.04165173e-03 -1.77808292e-02\n",
            "  2.26597246e-02 -1.15151564e-02 -1.90689750e-02  1.26257306e-02\n",
            "  8.89591966e-03  9.82600451e-03 -9.87170730e-04 -6.37551770e-03\n",
            " -1.07446155e-02  1.12618115e-02 -3.16475704e-03  2.51144636e-03\n",
            "  1.71949517e-03  1.66650619e-02 -1.94572639e-02 -2.87644640e-02\n",
            " -1.69634707e-02  1.38787627e-02  2.87692398e-02 -1.28569826e-02\n",
            "  6.04906259e-03 -1.11770527e-02 -8.90420005e-03 -1.44504094e-02\n",
            " -1.08621232e-02  5.94814820e-03 -7.60697527e-03  7.98832532e-03]\n",
            "Length of a Vector: 768\n"
          ]
        }
      ],
      "source": [
        "# Simple Representation of Embeddings using MahaNLP\n",
        "text = 'चा फक्त नारा देऊन उपयोग नाही महिला अत्याचाराच्या आरोपींना वेळीच कठोर शासनही झालं पाहिजे पण गहुंजे खटल्यात अक्षम्य दिरंगाई झाली आहे महिला सुरक्षेबाबत तत्परतेचे दावे फोल ठरले आहेत गहुंजेच्या आरोपींना फाशी होणेबाबत सरकारने तातडीने कायदेशीर पावले उचलली पाहिजे'\n",
        "vector = sa.embed_sentences(text)\n",
        "print(vector)\n",
        "print(\"Length of a Vector:\", len(vector))"
      ]
    },
    {
      "cell_type": "code",
      "execution_count": null,
      "metadata": {
        "id": "r15KBs7463aI"
      },
      "outputs": [],
      "source": [
        "# Helper function to preprocess the data\n",
        "# 1.) Remove Stopwords\n",
        "# 2.) Vectorize data\n",
        "\n",
        "def preprocess_using_mahaNLP(df):\n",
        "  corpus = []\n",
        "  for sent in df:\n",
        "      text = preprocessor.remove_stopwords(sent)\n",
        "      text = \" \".join(text)\n",
        "      vector = sa.embed_sentences(text)\n",
        "      corpus.append(vector)\n",
        "  return corpus"
      ]
    },
    {
      "cell_type": "code",
      "execution_count": null,
      "metadata": {
        "colab": {
          "background_save": true
        },
        "id": "VaNF6Utz63aI"
      },
      "outputs": [],
      "source": [
        "# Defining X and y\n",
        "X = preprocess_using_mahaNLP(df['Sentence'].iloc[:5000])\n",
        "y = df['Score'].iloc[:5000]"
      ]
    },
    {
      "cell_type": "code",
      "execution_count": null,
      "metadata": {
        "id": "cw46b41v63aI"
      },
      "outputs": [],
      "source": [
        "# Train test split\n",
        "X_train, X_test, y_train, y_test = train_test_split(X, y, test_size=0.2, random_state=42)"
      ]
    },
    {
      "cell_type": "code",
      "execution_count": null,
      "metadata": {
        "id": "cZaJCFFe63aI",
        "colab": {
          "base_uri": "https://localhost:8080/",
          "height": 75
        },
        "outputId": "25418034-e26d-4a84-d649-1c8a71ad299c"
      },
      "outputs": [
        {
          "output_type": "execute_result",
          "data": {
            "text/plain": [
              "RandomForestClassifier()"
            ],
            "text/html": [
              "<style>#sk-container-id-3 {color: black;background-color: white;}#sk-container-id-3 pre{padding: 0;}#sk-container-id-3 div.sk-toggleable {background-color: white;}#sk-container-id-3 label.sk-toggleable__label {cursor: pointer;display: block;width: 100%;margin-bottom: 0;padding: 0.3em;box-sizing: border-box;text-align: center;}#sk-container-id-3 label.sk-toggleable__label-arrow:before {content: \"▸\";float: left;margin-right: 0.25em;color: #696969;}#sk-container-id-3 label.sk-toggleable__label-arrow:hover:before {color: black;}#sk-container-id-3 div.sk-estimator:hover label.sk-toggleable__label-arrow:before {color: black;}#sk-container-id-3 div.sk-toggleable__content {max-height: 0;max-width: 0;overflow: hidden;text-align: left;background-color: #f0f8ff;}#sk-container-id-3 div.sk-toggleable__content pre {margin: 0.2em;color: black;border-radius: 0.25em;background-color: #f0f8ff;}#sk-container-id-3 input.sk-toggleable__control:checked~div.sk-toggleable__content {max-height: 200px;max-width: 100%;overflow: auto;}#sk-container-id-3 input.sk-toggleable__control:checked~label.sk-toggleable__label-arrow:before {content: \"▾\";}#sk-container-id-3 div.sk-estimator input.sk-toggleable__control:checked~label.sk-toggleable__label {background-color: #d4ebff;}#sk-container-id-3 div.sk-label input.sk-toggleable__control:checked~label.sk-toggleable__label {background-color: #d4ebff;}#sk-container-id-3 input.sk-hidden--visually {border: 0;clip: rect(1px 1px 1px 1px);clip: rect(1px, 1px, 1px, 1px);height: 1px;margin: -1px;overflow: hidden;padding: 0;position: absolute;width: 1px;}#sk-container-id-3 div.sk-estimator {font-family: monospace;background-color: #f0f8ff;border: 1px dotted black;border-radius: 0.25em;box-sizing: border-box;margin-bottom: 0.5em;}#sk-container-id-3 div.sk-estimator:hover {background-color: #d4ebff;}#sk-container-id-3 div.sk-parallel-item::after {content: \"\";width: 100%;border-bottom: 1px solid gray;flex-grow: 1;}#sk-container-id-3 div.sk-label:hover label.sk-toggleable__label {background-color: #d4ebff;}#sk-container-id-3 div.sk-serial::before {content: \"\";position: absolute;border-left: 1px solid gray;box-sizing: border-box;top: 0;bottom: 0;left: 50%;z-index: 0;}#sk-container-id-3 div.sk-serial {display: flex;flex-direction: column;align-items: center;background-color: white;padding-right: 0.2em;padding-left: 0.2em;position: relative;}#sk-container-id-3 div.sk-item {position: relative;z-index: 1;}#sk-container-id-3 div.sk-parallel {display: flex;align-items: stretch;justify-content: center;background-color: white;position: relative;}#sk-container-id-3 div.sk-item::before, #sk-container-id-3 div.sk-parallel-item::before {content: \"\";position: absolute;border-left: 1px solid gray;box-sizing: border-box;top: 0;bottom: 0;left: 50%;z-index: -1;}#sk-container-id-3 div.sk-parallel-item {display: flex;flex-direction: column;z-index: 1;position: relative;background-color: white;}#sk-container-id-3 div.sk-parallel-item:first-child::after {align-self: flex-end;width: 50%;}#sk-container-id-3 div.sk-parallel-item:last-child::after {align-self: flex-start;width: 50%;}#sk-container-id-3 div.sk-parallel-item:only-child::after {width: 0;}#sk-container-id-3 div.sk-dashed-wrapped {border: 1px dashed gray;margin: 0 0.4em 0.5em 0.4em;box-sizing: border-box;padding-bottom: 0.4em;background-color: white;}#sk-container-id-3 div.sk-label label {font-family: monospace;font-weight: bold;display: inline-block;line-height: 1.2em;}#sk-container-id-3 div.sk-label-container {text-align: center;}#sk-container-id-3 div.sk-container {/* jupyter's `normalize.less` sets `[hidden] { display: none; }` but bootstrap.min.css set `[hidden] { display: none !important; }` so we also need the `!important` here to be able to override the default hidden behavior on the sphinx rendered scikit-learn.org. See: https://github.com/scikit-learn/scikit-learn/issues/21755 */display: inline-block !important;position: relative;}#sk-container-id-3 div.sk-text-repr-fallback {display: none;}</style><div id=\"sk-container-id-3\" class=\"sk-top-container\"><div class=\"sk-text-repr-fallback\"><pre>RandomForestClassifier()</pre><b>In a Jupyter environment, please rerun this cell to show the HTML representation or trust the notebook. <br />On GitHub, the HTML representation is unable to render, please try loading this page with nbviewer.org.</b></div><div class=\"sk-container\" hidden><div class=\"sk-item\"><div class=\"sk-estimator sk-toggleable\"><input class=\"sk-toggleable__control sk-hidden--visually\" id=\"sk-estimator-id-3\" type=\"checkbox\" checked><label for=\"sk-estimator-id-3\" class=\"sk-toggleable__label sk-toggleable__label-arrow\">RandomForestClassifier</label><div class=\"sk-toggleable__content\"><pre>RandomForestClassifier()</pre></div></div></div></div></div>"
            ]
          },
          "metadata": {},
          "execution_count": 50
        }
      ],
      "source": [
        "# Fitting a simple ML model, Random Forest\n",
        "rfc = RandomForestClassifier()\n",
        "rfc.fit(X_train, y_train)"
      ]
    },
    {
      "cell_type": "code",
      "execution_count": null,
      "metadata": {
        "id": "bvhkrbhy63aI",
        "colab": {
          "base_uri": "https://localhost:8080/"
        },
        "outputId": "5b011872-2145-4990-b78e-9cf33c6b8469"
      },
      "outputs": [
        {
          "output_type": "stream",
          "name": "stdout",
          "text": [
            "Accuracy on the marathi test set: 0.774\n"
          ]
        }
      ],
      "source": [
        "# Accuracy\n",
        "y_pred = rfc.predict(X_test)\n",
        "accuracy = accuracy_score(y_test, y_pred)\n",
        "print(f\"Accuracy on the marathi test set: {accuracy}\")"
      ]
    },
    {
      "cell_type": "code",
      "execution_count": null,
      "metadata": {
        "id": "BOTaX3R-LTMl",
        "colab": {
          "base_uri": "https://localhost:8080/"
        },
        "outputId": "c82c44e9-bb54-4c40-d4f3-38c905390084"
      },
      "outputs": [
        {
          "output_type": "stream",
          "name": "stdout",
          "text": [
            "Classification Report:\n",
            "              precision    recall  f1-score   support\n",
            "\n",
            "          -1       0.75      0.86      0.80       322\n",
            "           0       0.76      0.72      0.74       345\n",
            "           1       0.81      0.74      0.78       333\n",
            "\n",
            "    accuracy                           0.77      1000\n",
            "   macro avg       0.78      0.78      0.77      1000\n",
            "weighted avg       0.78      0.77      0.77      1000\n",
            "\n"
          ]
        }
      ],
      "source": [
        "# Classification Report\n",
        "from sklearn.metrics import accuracy_score, classification_report, confusion_matrix\n",
        "report = classification_report(y_test, y_pred)\n",
        "print(\"Classification Report:\")\n",
        "print(report)"
      ]
    },
    {
      "cell_type": "markdown",
      "metadata": {
        "id": "EIjCocwl63aI"
      },
      "source": [
        "## TF-IDF"
      ]
    },
    {
      "cell_type": "markdown",
      "metadata": {
        "id": "sutB-e5UfY93"
      },
      "source": [
        "TF-IDF stands for Term Frequency Inverse Document Frequency of records. It can be defined as the calculation of how relevant a word in a series or corpus is to a text. The meaning increases proportionally to the number of times in the text a word appears but is compensated by the word frequency in the corpus (data-set)."
      ]
    },
    {
      "cell_type": "code",
      "execution_count": null,
      "metadata": {
        "id": "Q9RaCvox63aJ"
      },
      "outputs": [],
      "source": [
        "# Create object\n",
        "tfidf_vectorizer = TfidfVectorizer(max_features=1500)"
      ]
    },
    {
      "cell_type": "code",
      "execution_count": null,
      "metadata": {
        "id": "a4O6KahJAwF-"
      },
      "outputs": [],
      "source": [
        "X = df[\"Sentence\"].values\n",
        "y = df[\"Score\"].values"
      ]
    },
    {
      "cell_type": "code",
      "execution_count": null,
      "metadata": {
        "id": "DtuIP2NZAwII"
      },
      "outputs": [],
      "source": [
        "# Train Test Split\n",
        "X_train, X_test, y_train, y_test = train_test_split(X, y, test_size=0.2, random_state=42)"
      ]
    },
    {
      "cell_type": "code",
      "execution_count": null,
      "metadata": {
        "id": "0fM8m56EAwKZ"
      },
      "outputs": [],
      "source": [
        "# Get tf-df values\n",
        "X_train_idf = tfidf_vectorizer.fit_transform(X_train)\n",
        "X_test_idf = tfidf_vectorizer.transform(X_test)"
      ]
    },
    {
      "cell_type": "code",
      "execution_count": null,
      "metadata": {
        "colab": {
          "base_uri": "https://localhost:8080/",
          "height": 75
        },
        "id": "Bl6_bLwSAwN1",
        "outputId": "441f02e5-96c6-424b-bee4-bdbfd22505b0"
      },
      "outputs": [
        {
          "data": {
            "text/html": [
              "<style>#sk-container-id-2 {color: black;background-color: white;}#sk-container-id-2 pre{padding: 0;}#sk-container-id-2 div.sk-toggleable {background-color: white;}#sk-container-id-2 label.sk-toggleable__label {cursor: pointer;display: block;width: 100%;margin-bottom: 0;padding: 0.3em;box-sizing: border-box;text-align: center;}#sk-container-id-2 label.sk-toggleable__label-arrow:before {content: \"▸\";float: left;margin-right: 0.25em;color: #696969;}#sk-container-id-2 label.sk-toggleable__label-arrow:hover:before {color: black;}#sk-container-id-2 div.sk-estimator:hover label.sk-toggleable__label-arrow:before {color: black;}#sk-container-id-2 div.sk-toggleable__content {max-height: 0;max-width: 0;overflow: hidden;text-align: left;background-color: #f0f8ff;}#sk-container-id-2 div.sk-toggleable__content pre {margin: 0.2em;color: black;border-radius: 0.25em;background-color: #f0f8ff;}#sk-container-id-2 input.sk-toggleable__control:checked~div.sk-toggleable__content {max-height: 200px;max-width: 100%;overflow: auto;}#sk-container-id-2 input.sk-toggleable__control:checked~label.sk-toggleable__label-arrow:before {content: \"▾\";}#sk-container-id-2 div.sk-estimator input.sk-toggleable__control:checked~label.sk-toggleable__label {background-color: #d4ebff;}#sk-container-id-2 div.sk-label input.sk-toggleable__control:checked~label.sk-toggleable__label {background-color: #d4ebff;}#sk-container-id-2 input.sk-hidden--visually {border: 0;clip: rect(1px 1px 1px 1px);clip: rect(1px, 1px, 1px, 1px);height: 1px;margin: -1px;overflow: hidden;padding: 0;position: absolute;width: 1px;}#sk-container-id-2 div.sk-estimator {font-family: monospace;background-color: #f0f8ff;border: 1px dotted black;border-radius: 0.25em;box-sizing: border-box;margin-bottom: 0.5em;}#sk-container-id-2 div.sk-estimator:hover {background-color: #d4ebff;}#sk-container-id-2 div.sk-parallel-item::after {content: \"\";width: 100%;border-bottom: 1px solid gray;flex-grow: 1;}#sk-container-id-2 div.sk-label:hover label.sk-toggleable__label {background-color: #d4ebff;}#sk-container-id-2 div.sk-serial::before {content: \"\";position: absolute;border-left: 1px solid gray;box-sizing: border-box;top: 0;bottom: 0;left: 50%;z-index: 0;}#sk-container-id-2 div.sk-serial {display: flex;flex-direction: column;align-items: center;background-color: white;padding-right: 0.2em;padding-left: 0.2em;position: relative;}#sk-container-id-2 div.sk-item {position: relative;z-index: 1;}#sk-container-id-2 div.sk-parallel {display: flex;align-items: stretch;justify-content: center;background-color: white;position: relative;}#sk-container-id-2 div.sk-item::before, #sk-container-id-2 div.sk-parallel-item::before {content: \"\";position: absolute;border-left: 1px solid gray;box-sizing: border-box;top: 0;bottom: 0;left: 50%;z-index: -1;}#sk-container-id-2 div.sk-parallel-item {display: flex;flex-direction: column;z-index: 1;position: relative;background-color: white;}#sk-container-id-2 div.sk-parallel-item:first-child::after {align-self: flex-end;width: 50%;}#sk-container-id-2 div.sk-parallel-item:last-child::after {align-self: flex-start;width: 50%;}#sk-container-id-2 div.sk-parallel-item:only-child::after {width: 0;}#sk-container-id-2 div.sk-dashed-wrapped {border: 1px dashed gray;margin: 0 0.4em 0.5em 0.4em;box-sizing: border-box;padding-bottom: 0.4em;background-color: white;}#sk-container-id-2 div.sk-label label {font-family: monospace;font-weight: bold;display: inline-block;line-height: 1.2em;}#sk-container-id-2 div.sk-label-container {text-align: center;}#sk-container-id-2 div.sk-container {/* jupyter's `normalize.less` sets `[hidden] { display: none; }` but bootstrap.min.css set `[hidden] { display: none !important; }` so we also need the `!important` here to be able to override the default hidden behavior on the sphinx rendered scikit-learn.org. See: https://github.com/scikit-learn/scikit-learn/issues/21755 */display: inline-block !important;position: relative;}#sk-container-id-2 div.sk-text-repr-fallback {display: none;}</style><div id=\"sk-container-id-2\" class=\"sk-top-container\"><div class=\"sk-text-repr-fallback\"><pre>RandomForestClassifier()</pre><b>In a Jupyter environment, please rerun this cell to show the HTML representation or trust the notebook. <br />On GitHub, the HTML representation is unable to render, please try loading this page with nbviewer.org.</b></div><div class=\"sk-container\" hidden><div class=\"sk-item\"><div class=\"sk-estimator sk-toggleable\"><input class=\"sk-toggleable__control sk-hidden--visually\" id=\"sk-estimator-id-2\" type=\"checkbox\" checked><label for=\"sk-estimator-id-2\" class=\"sk-toggleable__label sk-toggleable__label-arrow\">RandomForestClassifier</label><div class=\"sk-toggleable__content\"><pre>RandomForestClassifier()</pre></div></div></div></div></div>"
            ],
            "text/plain": [
              "RandomForestClassifier()"
            ]
          },
          "execution_count": 25,
          "metadata": {},
          "output_type": "execute_result"
        }
      ],
      "source": [
        "# Fit ML model\n",
        "rfc2 = RandomForestClassifier()\n",
        "rfc2.fit(X_train_idf, y_train)"
      ]
    },
    {
      "cell_type": "code",
      "execution_count": null,
      "metadata": {
        "colab": {
          "base_uri": "https://localhost:8080/"
        },
        "id": "7pz5_SD2A2jp",
        "outputId": "adfb7c74-8ee5-4045-84fc-3be65ea459d1"
      },
      "outputs": [
        {
          "name": "stdout",
          "output_type": "stream",
          "text": [
            "Accuracy on the marathi test set: 0.6907352456313881\n"
          ]
        }
      ],
      "source": [
        "# Accuracy\n",
        "y_pred2 = rfc2.predict(X_test_idf)\n",
        "accuracy = accuracy_score(y_test, y_pred2)\n",
        "print(f\"Accuracy on the marathi test set: {accuracy}\")"
      ]
    },
    {
      "cell_type": "code",
      "execution_count": null,
      "metadata": {
        "colab": {
          "base_uri": "https://localhost:8080/"
        },
        "id": "78IpO7wSLV4_",
        "outputId": "0f2e0567-40ef-4f1e-f869-ebb3e8cb0bd2"
      },
      "outputs": [
        {
          "name": "stdout",
          "output_type": "stream",
          "text": [
            "Classification Report:\n",
            "              precision    recall  f1-score   support\n",
            "\n",
            "          -1       0.67      0.78      0.72       963\n",
            "           0       0.68      0.69      0.69      1066\n",
            "           1       0.74      0.61      0.67      1004\n",
            "\n",
            "    accuracy                           0.69      3033\n",
            "   macro avg       0.69      0.69      0.69      3033\n",
            "weighted avg       0.69      0.69      0.69      3033\n",
            "\n"
          ]
        }
      ],
      "source": [
        "# Classification Report\n",
        "from sklearn.metrics import accuracy_score, classification_report, confusion_matrix\n",
        "report = classification_report(y_test, y_pred2)\n",
        "print(\"Classification Report:\")\n",
        "print(report)"
      ]
    },
    {
      "cell_type": "code",
      "execution_count": null,
      "metadata": {
        "id": "fdGwD4dSUadz"
      },
      "outputs": [],
      "source": [
        "# Testing on Unseen data 1\n",
        "sent = \"तुमच्यावर मला अप्रतिम विश्वास आहे.\"\n",
        "preprocessed_text = preprocess([sent])\n",
        "final_text = tfidf_vectorizer.transform(preprocessed_text)"
      ]
    },
    {
      "cell_type": "code",
      "execution_count": null,
      "metadata": {
        "colab": {
          "base_uri": "https://localhost:8080/"
        },
        "id": "mW1kkEg4URhR",
        "outputId": "40aa5fd7-f55e-4c12-c37e-3b92f012a497"
      },
      "outputs": [
        {
          "name": "stdout",
          "output_type": "stream",
          "text": [
            "['Positive']\n"
          ]
        }
      ],
      "source": [
        "y_pred = rfc1.predict_proba(final_text)[:, 1]\n",
        "sentiment_scores = get_score(y_pred)\n",
        "print(sentiment_scores)"
      ]
    },
    {
      "cell_type": "code",
      "execution_count": null,
      "metadata": {
        "id": "v8Ml60AcURkF"
      },
      "outputs": [],
      "source": [
        "# Testing on Unseen data 2\n",
        "sent = \"माझ्या स्वप्नांचं निराशा होतं, कारण त्यांनी माझ्यावर विश्वास घालायला असं नको.\"\n",
        "preprocessed_text = preprocess([sent])\n",
        "final_text = tfidf_vectorizer.transform(preprocessed_text)"
      ]
    },
    {
      "cell_type": "code",
      "execution_count": null,
      "metadata": {
        "colab": {
          "base_uri": "https://localhost:8080/"
        },
        "id": "3jRgCiuGURmr",
        "outputId": "7e986d62-ddfb-43a5-c36d-8fe8a52def28"
      },
      "outputs": [
        {
          "name": "stdout",
          "output_type": "stream",
          "text": [
            "['Neutral']\n"
          ]
        }
      ],
      "source": [
        "y_pred = rfc1.predict_proba(final_text)[:, 1]\n",
        "sentiment_scores = get_score(y_pred)\n",
        "print(sentiment_scores)"
      ]
    },
    {
      "cell_type": "markdown",
      "metadata": {
        "id": "JbmfgPxhDVdd"
      },
      "source": [
        "### Other models"
      ]
    },
    {
      "cell_type": "code",
      "execution_count": null,
      "metadata": {
        "id": "jJi2h3q663aJ"
      },
      "outputs": [],
      "source": [
        "!pip install lazypredict -q"
      ]
    },
    {
      "cell_type": "code",
      "execution_count": null,
      "metadata": {
        "id": "SMxCx4aE63aJ"
      },
      "outputs": [],
      "source": [
        "from lazypredict.Supervised import LazyClassifier\n",
        "clf = LazyClassifier(verbose=0,ignore_warnings=True, custom_metric=None)\n",
        "models,predictions = clf.fit(X_train_df, X_test_df, y_train, y_test)\n",
        "print(models)"
      ]
    },
    {
      "cell_type": "code",
      "execution_count": null,
      "metadata": {
        "id": "bAXR7ZAN63aJ"
      },
      "outputs": [],
      "source": [
        "conf_matrix = confusion_matrix(y_test, y_pred)\n",
        "print(\"Confusion Matrix\")\n",
        "print(conf_matrix)"
      ]
    }
  ],
  "metadata": {
    "colab": {
      "provenance": []
    },
    "kernelspec": {
      "display_name": "Python 3",
      "name": "python3"
    },
    "language_info": {
      "name": "python"
    }
  },
  "nbformat": 4,
  "nbformat_minor": 0
}